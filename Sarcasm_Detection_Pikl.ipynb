{
 "cells": [
  {
   "cell_type": "code",
   "execution_count": null,
   "metadata": {},
   "outputs": [],
   "source": [
    "import pickle\n",
    "import pandas as pd"
   ]
  },
  {
   "cell_type": "code",
   "execution_count": null,
   "metadata": {},
   "outputs": [],
   "source": [
    "with open('SVC.pkl', 'rb') as file:\n",
    "    loaded_SVM = pickle.load(file)  "
   ]
  },
  {
   "cell_type": "code",
   "execution_count": null,
   "metadata": {},
   "outputs": [],
   "source": [
    "text_samples = [\n",
    "    'Feeling joyous, filled with happiness inside.',\n",
    "    'Terrified, trembling in fear of the unknown.',\n",
    "    'Heartbroken, lost in a sea of despair.',\n",
    "    'Consumed by rage, boiling with anger.',\n",
    "    \"I stopped feeling cold and began feeling hotter.\",\n",
    "    'Surprised by events, shock coursing through.',\n",
    "    'Deep relaxation, serenity envelops my being.',\n",
    "    'Exhilaration runs high, excitement overflows.',\n",
    "    'Boredom creeps in, a dull, listless state.',\n",
    "    'Lifeless and still, devoid of sensation.',\n",
    "    \"Mihir's code is so bad, it makes me cry.\",\n",
    "    \" want each of you to feel my gentle embrace\",\n",
    "]\n",
    "\n",
    "predictions = loaded_SVM.predict(text_samples)\n",
    "predictions = list(map(bool, predictions))\n",
    "data = {'Text': text_samples, 'isSarcastic': predictions}\n",
    "df = pd.DataFrame(data)\n",
    "print(df)"
   ]
  }
 ],
 "metadata": {
  "language_info": {
   "name": "python"
  }
 },
 "nbformat": 4,
 "nbformat_minor": 2
}
